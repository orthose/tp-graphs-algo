{
 "cells": [
  {
   "cell_type": "markdown",
   "metadata": {
    "deletable": false,
    "editable": false,
    "nbgrader": {
     "cell_type": "markdown",
     "checksum": "1bf90f8bbbf996a988f39f496861802e",
     "grade": false,
     "grade_id": "cell-544dddb2f5487709",
     "locked": true,
     "schema_version": 3,
     "solution": false,
     "task": false
    },
    "slideshow": {
     "slide_type": "slide"
    }
   },
   "source": [
    "# Arbres couvrants"
   ]
  },
  {
   "cell_type": "markdown",
   "metadata": {
    "deletable": false,
    "editable": false,
    "nbgrader": {
     "cell_type": "markdown",
     "checksum": "1a44c1bd15094960964e96a97c02ba34",
     "grade": false,
     "grade_id": "cell-544dddb2f5487701",
     "locked": true,
     "schema_version": 3,
     "solution": false,
     "task": false
    },
    "slideshow": {
     "slide_type": "slide"
    }
   },
   "source": [
    "### Sous graphes et graphes partiels\n",
    "\n",
    "**Définition** On dit qu'un graphe $G'$ est un *graphe partiel* d'un graphe $G=(V;E)$ s'il est formé par les même sommets mais un sous ensemble des arêtes de $G$. Formellement, $G'$ est de la forme $(V; F)$ avec $F\\subset E$.\n",
    "\n",
    "**Note** : On parle parfois aussi de *graphe couvrant*.\n",
    "\n",
    "**Note** : Ne pas confondre avec la notion de *sous-graphe* où l'on a aussi un sous ensemble des sommets."
   ]
  },
  {
   "cell_type": "markdown",
   "metadata": {
    "deletable": false,
    "editable": false,
    "nbgrader": {
     "cell_type": "markdown",
     "checksum": "537f1a3fd4781ef55c25d7238a30716c",
     "grade": false,
     "grade_id": "cell-544dddb2f5487702",
     "locked": true,
     "schema_version": 3,
     "solution": false,
     "task": false
    },
    "slideshow": {
     "slide_type": "slide"
    }
   },
   "source": [
    "**Définition** Étant donné un graphe $G=(V;E)$, on appelle **arbre couvrant** de $G$ un graphe $T=(V;F)$ tel que\n",
    "- $T$ est un arbre;\n",
    "- $T$ est un graphe partiel de $G$.\n",
    "\n",
    "Intuitivement : $T$ est construit avec les arêtes $U$ de $G$ en connectant (\"couvre\") tous les sommets de $V$. "
   ]
  },
  {
   "cell_type": "markdown",
   "metadata": {
    "deletable": false,
    "editable": false,
    "nbgrader": {
     "cell_type": "markdown",
     "checksum": "fb742fc025d3536bceb27dbddd01db18",
     "grade": false,
     "grade_id": "cell-b8d8739f91694f04",
     "locked": true,
     "schema_version": 3,
     "solution": false,
     "task": false
    },
    "slideshow": {
     "slide_type": "subslide"
    }
   },
   "source": [
    "<img src=\"media/4x4_grid_spanning_tree.svg\" width=\"400\" height=\"400\" />"
   ]
  },
  {
   "cell_type": "markdown",
   "metadata": {
    "deletable": false,
    "editable": false,
    "nbgrader": {
     "cell_type": "markdown",
     "checksum": "1304177463d253465c1008f1ce004f34",
     "grade": false,
     "grade_id": "cell-2aad4dda83379b31",
     "locked": true,
     "schema_version": 3,
     "solution": false,
     "task": false
    },
    "slideshow": {
     "slide_type": "subslide"
    }
   },
   "source": [
    "<img src=\"media/Minimum_spanning_tree.svg\" width=\"600\" height=\"600\" />"
   ]
  },
  {
   "cell_type": "markdown",
   "metadata": {
    "deletable": false,
    "editable": false,
    "nbgrader": {
     "cell_type": "markdown",
     "checksum": "628913eeaf86defc555a1551da8da28d",
     "grade": false,
     "grade_id": "cell-a71e599f02453ef8",
     "locked": true,
     "schema_version": 3,
     "solution": false,
     "task": false
    },
    "slideshow": {
     "slide_type": "slide"
    }
   },
   "source": [
    "**Proposition 5.** : Un graphe $G=(V;E)$ admet un *arbre couvrant* si et seulement si il est *connexe*."
   ]
  },
  {
   "cell_type": "markdown",
   "metadata": {
    "deletable": false,
    "editable": false,
    "nbgrader": {
     "cell_type": "markdown",
     "checksum": "e966601c83c652ebfb0affbe8aee53a7",
     "grade": false,
     "grade_id": "cell-695792166441baa9",
     "locked": true,
     "schema_version": 3,
     "solution": false,
     "task": false
    },
    "slideshow": {
     "slide_type": "fragment"
    }
   },
   "source": [
    "**Preuve** : Le sens direct est évident, si $G$ admet un graphe partiel connexe alors $G$ est connexe. \n",
    "\n",
    "On prouve la réciproque avec l'algorithme suivant:\n",
    "\n",
    "    on pose T := G\n",
    "    tant que que T admet un cycle C\n",
    "        // Invariant : T est un graphe partiel connexe de G\n",
    "        supprimer dans T une arête du cycle C\n",
    "    renvoyer T\n",
    "En effet, supprimer une arête d'un cycle d'un graphe, ne change pas sa connexité (pourquoi ?). En conséquence quand ou sort de la boucle, `T` contient un graphe partiel connexe et sans cycle de G.  "
   ]
  },
  {
   "cell_type": "markdown",
   "metadata": {
    "deletable": false,
    "editable": false,
    "nbgrader": {
     "cell_type": "markdown",
     "checksum": "23de89bb9937e7c1416ad403894b26bb",
     "grade": false,
     "grade_id": "cell-8e7a33c1e9a87e69",
     "locked": true,
     "schema_version": 3,
     "solution": false,
     "task": false
    },
    "slideshow": {
     "slide_type": "subslide"
    }
   },
   "source": [
    "**Note** : L'algorithme ci dessus n'est pas efficace. On verra ci-dessous deux algorithmes plus efficaces, dû à Kruskal et Prim."
   ]
  },
  {
   "cell_type": "markdown",
   "metadata": {
    "deletable": false,
    "editable": false,
    "nbgrader": {
     "cell_type": "markdown",
     "checksum": "0ed139afe587c1f144561bedd72f119a",
     "grade": false,
     "grade_id": "cell-eb061c42e65a63d0",
     "locked": true,
     "schema_version": 3,
     "solution": false,
     "task": false
    },
    "slideshow": {
     "slide_type": "notes"
    }
   },
   "source": [
    "- Implanter l'algorithme ci-dessus.\n",
    "- Vérifier sur tous les graphes connexe que le résultat est bien un arbre."
   ]
  },
  {
   "cell_type": "markdown",
   "metadata": {
    "deletable": false,
    "nbgrader": {
     "cell_type": "markdown",
     "checksum": "fbe38255fe88da9d645350fa0b7830a8",
     "grade": true,
     "grade_id": "cell-76c3e685c0046c3c",
     "locked": false,
     "points": 2,
     "schema_version": 3,
     "solution": true,
     "task": false
    },
    "slideshow": {
     "slide_type": "notes"
    }
   },
   "source": [
    "YOUR ANSWER HERE"
   ]
  },
  {
   "cell_type": "markdown",
   "metadata": {
    "deletable": false,
    "editable": false,
    "nbgrader": {
     "cell_type": "markdown",
     "checksum": "e0cf7a4236dd6dcc82fe7ccfddad162e",
     "grade": false,
     "grade_id": "cell-7ac1e06c9386de59",
     "locked": true,
     "schema_version": 3,
     "solution": false,
     "task": false
    },
    "slideshow": {
     "slide_type": "notes"
    }
   },
   "source": [
    "**Exercice 1.** : Combien d’arbres couvrants différents les graphes ci-contre possèdent-ils ?\n",
    "<img src=\"media/arb-000.jpg\" width=\"600\" height=\"600\" />"
   ]
  },
  {
   "cell_type": "code",
   "execution_count": 1,
   "metadata": {
    "deletable": false,
    "nbgrader": {
     "cell_type": "code",
     "checksum": "c8ef926cadaf7ec0a48c22337431a60e",
     "grade": true,
     "grade_id": "cell-0062e036dc1e5f5d",
     "locked": false,
     "points": 1,
     "schema_version": 3,
     "solution": true,
     "task": false
    },
    "slideshow": {
     "slide_type": "notes"
    }
   },
   "outputs": [],
   "source": [
    "from graph import Graph\n",
    "import graph_examples\n",
    "\n",
    "def covering_tree(G):\n",
    "    G = G.copy()\n",
    "    cycle = G.find_cycle()\n",
    "    while cycle is not None:\n",
    "        G.remove_edge(cycle[0], cycle[1])\n",
    "        cycle = G.find_cycle()\n",
    "    return G"
   ]
  },
  {
   "cell_type": "code",
   "execution_count": 2,
   "metadata": {
    "slideshow": {
     "slide_type": "notes"
    }
   },
   "outputs": [
    {
     "data": {
      "application/vnd.jupyter.widget-view+json": {
       "model_id": "685a1b471ce34bcb98709fb22b4e8677",
       "version_major": 2,
       "version_minor": 0
      },
      "text/plain": [
       "Figure(fig_margin={'top': 60, 'bottom': 60, 'left': 60, 'right': 60}, layout=Layout(height='400px', width='400…"
      ]
     },
     "metadata": {},
     "output_type": "display_data"
    }
   ],
   "source": [
    "G = Graph(vertices=list(range(0,14)), edges=[\n",
    "    (0, 13, 3), (1, 13, 5), (1, 2, 1), (1, 4, 4), (2, 12, 4), (2, 13, 6), (3, 4, 4), (4, 5, 1), (4, 7, 5), \n",
    "    (5, 6, 4), (6, 12, 7), (7, 12, 2), (8, 9, 1), (8, 12, 2), (9, 10, 3), (10, 11, 4), (10, 12, 7), (10, 13, 7),\n",
    "    (11, 12, 3), (11, 13, 2)\n",
    "])\n",
    "G.show()"
   ]
  },
  {
   "cell_type": "code",
   "execution_count": 3,
   "metadata": {},
   "outputs": [
    {
     "data": {
      "application/vnd.jupyter.widget-view+json": {
       "model_id": "3c4f380c2ef84e8cb4e3078d5b5341a1",
       "version_major": 2,
       "version_minor": 0
      },
      "text/plain": [
       "Figure(fig_margin={'top': 60, 'bottom': 60, 'left': 60, 'right': 60}, layout=Layout(height='400px', width='400…"
      ]
     },
     "metadata": {},
     "output_type": "display_data"
    }
   ],
   "source": [
    "T = covering_tree(G)\n",
    "assert T.is_tree()\n",
    "T.show()"
   ]
  },
  {
   "cell_type": "code",
   "execution_count": 4,
   "metadata": {},
   "outputs": [],
   "source": [
    "examples = graph_examples.Examples(Graph)\n",
    "\n",
    "G = examples.Tr1()\n",
    "assert G.is_tree()\n",
    "T = covering_tree(G)\n",
    "assert T.is_tree()\n",
    "\n",
    "G = examples.G10()\n",
    "assert not G.is_tree()\n",
    "T = covering_tree(G)\n",
    "assert T.is_tree()\n",
    "\n",
    "G = examples.G20()\n",
    "assert not G.is_tree()\n",
    "T = covering_tree(G)\n",
    "assert T.is_tree()\n",
    "\n",
    "G = examples.Gr100()\n",
    "assert not G.is_tree()\n",
    "T = covering_tree(G)\n",
    "assert T.is_tree()"
   ]
  },
  {
   "cell_type": "markdown",
   "metadata": {
    "deletable": false,
    "editable": false,
    "nbgrader": {
     "cell_type": "markdown",
     "checksum": "4499d31830de47edeb30f45cf7a123e9",
     "grade": false,
     "grade_id": "cell-ca2584d0616390c1",
     "locked": true,
     "schema_version": 3,
     "solution": false,
     "task": false
    },
    "slideshow": {
     "slide_type": "slide"
    }
   },
   "source": [
    "## Arbre couvrant de poids minimum\n",
    "\n",
    "Soit un graphe où l'on a mis un poids sur les arêtes. \n",
    "\n",
    "Le problème de l'**arbre couvrant de poids minimum** consiste à trouver un arbre couvrant\n",
    "dont la somme des poids $c(e)$ des arêtes est minimum.\n"
   ]
  },
  {
   "cell_type": "markdown",
   "metadata": {
    "deletable": false,
    "editable": false,
    "nbgrader": {
     "cell_type": "markdown",
     "checksum": "e8ea7632795cf540981a5c9d6e0249f7",
     "grade": false,
     "grade_id": "cell-1588532f2ad1912c",
     "locked": true,
     "schema_version": 3,
     "solution": false,
     "task": false
    },
    "slideshow": {
     "slide_type": "subslide"
    }
   },
   "source": [
    "#### Ne pas confondre:\n",
    "- arbre couvrant de poids minimum (MST, Minimum Spanning Tree) : minimise la *somme\n",
    "des poids* des arêtes\n",
    " \n",
    "- arbre des plus courts chemins (SPT, Shortest Paths Tree) construit par exemple\n",
    "par BFS (Breadth First Search) ou Dijsktra : minimise la *distance de la racine à chaque sommet*\n"
   ]
  },
  {
   "cell_type": "markdown",
   "metadata": {
    "deletable": false,
    "editable": false,
    "nbgrader": {
     "cell_type": "markdown",
     "checksum": "3086ec9f00a9a6c3a55e1677ccb807e4",
     "grade": false,
     "grade_id": "cell-4c859113414197da",
     "locked": true,
     "schema_version": 3,
     "solution": false,
     "task": false
    },
    "slideshow": {
     "slide_type": "slide"
    }
   },
   "source": [
    "Voici deux arbres convrants (en rouge). Le premier est de poids $14$, le deuxieme de poids $10$.\n",
    "\n",
    "<div style=\"text-align: center\">\n",
    "<img style=\"float : left; height : 300px\" src=\"media/tree-022.jpg\"><img style=\"float: left; height : 300px\" src=\"media/tree-023.jpg\">\n",
    "</div>"
   ]
  },
  {
   "cell_type": "markdown",
   "metadata": {
    "deletable": false,
    "editable": false,
    "nbgrader": {
     "cell_type": "markdown",
     "checksum": "3a99aa3c0b43a6d864a3a0b78e6679df",
     "grade": false,
     "grade_id": "cell-2bb9f5ab02f0afa4",
     "locked": true,
     "schema_version": 3,
     "solution": false,
     "task": false
    },
    "slideshow": {
     "slide_type": "subslide"
    }
   },
   "source": [
    "Il y a deux algorithmes classiques pour calculer un arbre couvrant de poids minimum:\n",
    "- l'algorithme de Kruskal\n",
    "- l'algorithme de Prim"
   ]
  },
  {
   "cell_type": "markdown",
   "metadata": {
    "deletable": false,
    "editable": false,
    "nbgrader": {
     "cell_type": "markdown",
     "checksum": "2f164784e26ba63821569b104b5dc4cd",
     "grade": false,
     "grade_id": "cell-102baa83f5b67654",
     "locked": true,
     "schema_version": 3,
     "solution": false,
     "task": false
    },
    "slideshow": {
     "slide_type": "slide"
    }
   },
   "source": [
    "### Algorithme de Kruskal\n",
    "\n",
    "**Idée** : On part du graphe $T=(V, \\emptyset)$ et on ajoute tour à tour la nouvelle arête de plus petit poids qui ne crée pas de cycles (i.e. qui connecte deux composantes connexes différentes).\n",
    "\n",
    "**Invariant** : À l'étape $i$, le graphe $T$ est acyclique avec $i$ arêtes de poids minimal\n",
    "\n",
    "- [Algorithme de Kruskal](https://fr.wikipedia.org/wiki/Algorithme_de_Kruskal)\n",
    "- [Union Find](https://fr.wikipedia.org/wiki/Union-find)"
   ]
  },
  {
   "cell_type": "markdown",
   "metadata": {
    "deletable": false,
    "editable": false,
    "nbgrader": {
     "cell_type": "markdown",
     "checksum": "8c51778b931aa608c94cf7ae965041db",
     "grade": false,
     "grade_id": "cell-573305813bcd7e77",
     "locked": true,
     "schema_version": 3,
     "solution": false,
     "task": false
    },
    "slideshow": {
     "slide_type": "slide"
    }
   },
   "source": [
    "### Algorithme de Prim\n",
    "\n",
    "**Idée** : On choisi un noeuds $n$ part du graphe $T=(\\{n\\}, \\emptyset)$ et on ajoute tour à tour un nouveau noeud en le connectant autre en choisissant l'arête de poids minimum parmis.\n",
    "\n",
    "**Invariant** : Le graphe $T=(U,F)$ est toujours l'arbre convrant de poids minimal sur $U\\subset V$.\n",
    "\n",
    "- [Algoritme de Prim](https://fr.wikipedia.org/wiki/Algorithme_de_Prim)\n",
    "- [File de priorité](https://fr.wikipedia.org/wiki/File_de_priorit%C3%A9)"
   ]
  }
 ],
 "metadata": {
  "kernelspec": {
   "display_name": "Python 3 (ipykernel)",
   "language": "python",
   "name": "python3"
  },
  "language_info": {
   "codemirror_mode": {
    "name": "ipython",
    "version": 3
   },
   "file_extension": ".py",
   "mimetype": "text/x-python",
   "name": "python",
   "nbconvert_exporter": "python",
   "pygments_lexer": "ipython3",
   "version": "3.9.7"
  },
  "livereveal": {
   "scroll": true,
   "transition": "none"
  },
  "toc": {
   "base_numbering": 1,
   "nav_menu": {},
   "number_sections": true,
   "sideBar": true,
   "skip_h1_title": false,
   "title_cell": "Table of Contents",
   "title_sidebar": "Contents",
   "toc_cell": false,
   "toc_position": {},
   "toc_section_display": true,
   "toc_window_display": false
  },
  "varInspector": {
   "cols": {
    "lenName": 16,
    "lenType": 16,
    "lenVar": 40
   },
   "kernels_config": {
    "python": {
     "delete_cmd_postfix": "",
     "delete_cmd_prefix": "del ",
     "library": "var_list.py",
     "varRefreshCmd": "print(var_dic_list())"
    },
    "r": {
     "delete_cmd_postfix": ") ",
     "delete_cmd_prefix": "rm(",
     "library": "var_list.r",
     "varRefreshCmd": "cat(var_dic_list()) "
    }
   },
   "types_to_exclude": [
    "module",
    "function",
    "builtin_function_or_method",
    "instance",
    "_Feature"
   ],
   "window_display": false
  }
 },
 "nbformat": 4,
 "nbformat_minor": 2
}
